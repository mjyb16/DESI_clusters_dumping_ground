{
 "cells": [
  {
   "cell_type": "code",
   "execution_count": 33,
   "id": "e8d13ab4-dcae-4142-a102-b399b47ff170",
   "metadata": {
    "tags": []
   },
   "outputs": [],
   "source": [
    "import pandas as pd\n",
    "import numpy as np\n",
    "from astropy.table import Table\n",
    "from astropy.io import fits\n",
    "import matplotlib.pyplot as plt\n",
    "from IPython import display \n",
    "from astropy.coordinates import SkyCoord, Angle\n",
    "from astropy import units as u\n",
    "from astropy.io import ascii\n",
    "import fitsio\n",
    "from scipy import spatial\n",
    "from tqdm import tqdm"
   ]
  },
  {
   "cell_type": "code",
   "execution_count": 24,
   "id": "aa3a33e9-03c3-47ad-9915-f37dcd604d1a",
   "metadata": {
    "tags": []
   },
   "outputs": [],
   "source": [
    "pd.set_option('display.float_format', lambda x: '%.30f' % x)"
   ]
  },
  {
   "cell_type": "code",
   "execution_count": 6,
   "id": "8c25771b-ce8c-4295-8869-c6d8e1ac5894",
   "metadata": {
    "tags": []
   },
   "outputs": [],
   "source": [
    "hdu = fits.open('grade_a_core_lensed.fits')\n",
    "grade_a_core = pd.DataFrame(hdu[1].data)"
   ]
  },
  {
   "cell_type": "code",
   "execution_count": 12,
   "id": "63f305aa-bfbb-4d3e-a7a7-3fa304076b6e",
   "metadata": {
    "tags": []
   },
   "outputs": [
    {
     "data": {
      "text/html": [
       "<div>\n",
       "<style scoped>\n",
       "    .dataframe tbody tr th:only-of-type {\n",
       "        vertical-align: middle;\n",
       "    }\n",
       "\n",
       "    .dataframe tbody tr th {\n",
       "        vertical-align: top;\n",
       "    }\n",
       "\n",
       "    .dataframe thead th {\n",
       "        text-align: right;\n",
       "    }\n",
       "</style>\n",
       "<table border=\"1\" class=\"dataframe\">\n",
       "  <thead>\n",
       "    <tr style=\"text-align: right;\">\n",
       "      <th></th>\n",
       "      <th>lens_RA_central</th>\n",
       "      <th>lens_DEC_central</th>\n",
       "      <th>lens_spec_z</th>\n",
       "      <th>lens_spec_z_err</th>\n",
       "      <th>lens_z_median_central</th>\n",
       "      <th>lens_cluster_mass_onempc</th>\n",
       "      <th>lens_gid</th>\n",
       "      <th>QSO_RA</th>\n",
       "      <th>QSO_DEC</th>\n",
       "      <th>g_r</th>\n",
       "      <th>g_z</th>\n",
       "      <th>r_w1</th>\n",
       "    </tr>\n",
       "  </thead>\n",
       "  <tbody>\n",
       "    <tr>\n",
       "      <th>0</th>\n",
       "      <td>151.142384</td>\n",
       "      <td>41.212101</td>\n",
       "      <td>0.678844</td>\n",
       "      <td>0.000201</td>\n",
       "      <td>0.644357</td>\n",
       "      <td>12.989812</td>\n",
       "      <td>1.511424e+18</td>\n",
       "      <td>[151.14192866067762, 151.14551708800565, 151.1...</td>\n",
       "      <td>[41.21359278403611, 41.211878925342965, 41.209...</td>\n",
       "      <td>[0.22466087341308594, 0.16701698303222656, 0.0...</td>\n",
       "      <td>[0.2354888916015625, 0.6329059600830078, 0.017...</td>\n",
       "      <td>[1.7673072814941406, 1.7868938446044922, 1.616...</td>\n",
       "    </tr>\n",
       "    <tr>\n",
       "      <th>1</th>\n",
       "      <td>85.736571</td>\n",
       "      <td>-21.430541</td>\n",
       "      <td>-1.000000</td>\n",
       "      <td>-1.000000</td>\n",
       "      <td>0.645791</td>\n",
       "      <td>12.920172</td>\n",
       "      <td>8.573657e+17</td>\n",
       "      <td>[85.74019993756674, 85.74190599124141, 85.7384...</td>\n",
       "      <td>[-21.43101916759781, -21.432456409543448, -21....</td>\n",
       "      <td>[0.31234169006347656, -0.03741455078125, 0.011...</td>\n",
       "      <td>[0.36328125, 0.28224754333496094, 0.4260578155...</td>\n",
       "      <td>[1.3750324249267578, 0.6459217071533203, 0.346...</td>\n",
       "    </tr>\n",
       "    <tr>\n",
       "      <th>2</th>\n",
       "      <td>127.888516</td>\n",
       "      <td>43.433854</td>\n",
       "      <td>0.524894</td>\n",
       "      <td>0.000130</td>\n",
       "      <td>0.516354</td>\n",
       "      <td>12.797189</td>\n",
       "      <td>1.278885e+18</td>\n",
       "      <td>[127.87454796942181, 127.88260707512026, 127.8...</td>\n",
       "      <td>[43.43020360774267, 43.42988814593817, 43.4274...</td>\n",
       "      <td>[-0.09893608093261719, 0.5355434417724609, 0.4...</td>\n",
       "      <td>[0.00972747802734375, 0.38125038146972656, 0.5...</td>\n",
       "      <td>[0.4541339874267578, 1.2337703704833984, 1.950...</td>\n",
       "    </tr>\n",
       "    <tr>\n",
       "      <th>3</th>\n",
       "      <td>243.948290</td>\n",
       "      <td>6.790366</td>\n",
       "      <td>-1.000000</td>\n",
       "      <td>-1.000000</td>\n",
       "      <td>0.332528</td>\n",
       "      <td>12.552621</td>\n",
       "      <td>2.439483e+18</td>\n",
       "      <td>[243.93884364865764, 243.94759488596065, 243.9...</td>\n",
       "      <td>[6.788182237069169, 6.787754685916266, 6.79008...</td>\n",
       "      <td>[-0.21402740478515625, 0.25139617919921875, 0....</td>\n",
       "      <td>[0.15466690063476562, 0.8928184509277344, 0.59...</td>\n",
       "      <td>[1.0518627166748047, 2.38250732421875, 0.99187...</td>\n",
       "    </tr>\n",
       "    <tr>\n",
       "      <th>4</th>\n",
       "      <td>242.049830</td>\n",
       "      <td>23.854205</td>\n",
       "      <td>-1.000000</td>\n",
       "      <td>-1.000000</td>\n",
       "      <td>0.750228</td>\n",
       "      <td>12.534085</td>\n",
       "      <td>2.420498e+18</td>\n",
       "      <td>[242.0300373525245, 242.0601599610817, 242.068...</td>\n",
       "      <td>[23.847403723518973, 23.85723031874882, 23.861...</td>\n",
       "      <td>[0.6065120697021484, 0.42761802673339844, 0.41...</td>\n",
       "      <td>[0.23079681396484375, 0.6385345458984375, 0.89...</td>\n",
       "      <td>[1.5011920928955078, 1.1758079528808594, 1.501...</td>\n",
       "    </tr>\n",
       "  </tbody>\n",
       "</table>\n",
       "</div>"
      ],
      "text/plain": [
       "   lens_RA_central  lens_DEC_central  lens_spec_z  lens_spec_z_err  \\\n",
       "0       151.142384         41.212101     0.678844         0.000201   \n",
       "1        85.736571        -21.430541    -1.000000        -1.000000   \n",
       "2       127.888516         43.433854     0.524894         0.000130   \n",
       "3       243.948290          6.790366    -1.000000        -1.000000   \n",
       "4       242.049830         23.854205    -1.000000        -1.000000   \n",
       "\n",
       "   lens_z_median_central  lens_cluster_mass_onempc      lens_gid  \\\n",
       "0               0.644357                 12.989812  1.511424e+18   \n",
       "1               0.645791                 12.920172  8.573657e+17   \n",
       "2               0.516354                 12.797189  1.278885e+18   \n",
       "3               0.332528                 12.552621  2.439483e+18   \n",
       "4               0.750228                 12.534085  2.420498e+18   \n",
       "\n",
       "                                              QSO_RA  \\\n",
       "0  [151.14192866067762, 151.14551708800565, 151.1...   \n",
       "1  [85.74019993756674, 85.74190599124141, 85.7384...   \n",
       "2  [127.87454796942181, 127.88260707512026, 127.8...   \n",
       "3  [243.93884364865764, 243.94759488596065, 243.9...   \n",
       "4  [242.0300373525245, 242.0601599610817, 242.068...   \n",
       "\n",
       "                                             QSO_DEC  \\\n",
       "0  [41.21359278403611, 41.211878925342965, 41.209...   \n",
       "1  [-21.43101916759781, -21.432456409543448, -21....   \n",
       "2  [43.43020360774267, 43.42988814593817, 43.4274...   \n",
       "3  [6.788182237069169, 6.787754685916266, 6.79008...   \n",
       "4  [23.847403723518973, 23.85723031874882, 23.861...   \n",
       "\n",
       "                                                 g_r  \\\n",
       "0  [0.22466087341308594, 0.16701698303222656, 0.0...   \n",
       "1  [0.31234169006347656, -0.03741455078125, 0.011...   \n",
       "2  [-0.09893608093261719, 0.5355434417724609, 0.4...   \n",
       "3  [-0.21402740478515625, 0.25139617919921875, 0....   \n",
       "4  [0.6065120697021484, 0.42761802673339844, 0.41...   \n",
       "\n",
       "                                                 g_z  \\\n",
       "0  [0.2354888916015625, 0.6329059600830078, 0.017...   \n",
       "1  [0.36328125, 0.28224754333496094, 0.4260578155...   \n",
       "2  [0.00972747802734375, 0.38125038146972656, 0.5...   \n",
       "3  [0.15466690063476562, 0.8928184509277344, 0.59...   \n",
       "4  [0.23079681396484375, 0.6385345458984375, 0.89...   \n",
       "\n",
       "                                                r_w1  \n",
       "0  [1.7673072814941406, 1.7868938446044922, 1.616...  \n",
       "1  [1.3750324249267578, 0.6459217071533203, 0.346...  \n",
       "2  [0.4541339874267578, 1.2337703704833984, 1.950...  \n",
       "3  [1.0518627166748047, 2.38250732421875, 0.99187...  \n",
       "4  [1.5011920928955078, 1.1758079528808594, 1.501...  "
      ]
     },
     "execution_count": 12,
     "metadata": {},
     "output_type": "execute_result"
    }
   ],
   "source": [
    "grade_a_core"
   ]
  },
  {
   "cell_type": "code",
   "execution_count": 13,
   "id": "1a5e6257-1d03-4955-90ec-a3d90aaa7cfa",
   "metadata": {
    "tags": []
   },
   "outputs": [
    {
     "data": {
      "text/plain": [
       "lens_RA_central                                                     243.94829\n",
       "lens_DEC_central                                                     6.790366\n",
       "lens_spec_z                                                              -1.0\n",
       "lens_spec_z_err                                                          -1.0\n",
       "lens_z_median_central                                                0.332528\n",
       "lens_cluster_mass_onempc                                            12.552621\n",
       "lens_gid                                                2439482900096790528.0\n",
       "QSO_RA                      [243.93884364865764, 243.94759488596065, 243.9...\n",
       "QSO_DEC                     [6.788182237069169, 6.787754685916266, 6.79008...\n",
       "g_r                         [-0.21402740478515625, 0.25139617919921875, 0....\n",
       "g_z                         [0.15466690063476562, 0.8928184509277344, 0.59...\n",
       "r_w1                        [1.0518627166748047, 2.38250732421875, 0.99187...\n",
       "Name: 3, dtype: object"
      ]
     },
     "execution_count": 13,
     "metadata": {},
     "output_type": "execute_result"
    }
   ],
   "source": [
    "grade_a_core.iloc[3]"
   ]
  },
  {
   "cell_type": "code",
   "execution_count": 14,
   "id": "ceb99362-00a0-41ab-991a-5771e35c2efc",
   "metadata": {
    "tags": []
   },
   "outputs": [
    {
     "data": {
      "text/plain": [
       "6.790527999999995"
      ]
     },
     "execution_count": 14,
     "metadata": {},
     "output_type": "execute_result"
    }
   ],
   "source": [
    "96790528/10**6-90"
   ]
  },
  {
   "cell_type": "code",
   "execution_count": 45,
   "id": "12c19204-4486-48e4-9809-f6227d62debd",
   "metadata": {
    "tags": []
   },
   "outputs": [
    {
     "data": {
      "text/plain": [
       "2439482900096790366"
      ]
     },
     "execution_count": 45,
     "metadata": {},
     "output_type": "execute_result"
    }
   ],
   "source": [
    "int(np.round(grade_a_core.iloc[3][\"lens_RA_central\"], 6)*10**16) + int(np.round(grade_a_core.iloc[3][\"lens_DEC_central\"] + 90, 6)*10**6)"
   ]
  },
  {
   "cell_type": "code",
   "execution_count": 18,
   "id": "fd1f73f7-d675-4108-9066-a0786a1842d7",
   "metadata": {
    "tags": []
   },
   "outputs": [
    {
     "data": {
      "text/plain": [
       "2439482900096790528"
      ]
     },
     "execution_count": 18,
     "metadata": {},
     "output_type": "execute_result"
    }
   ],
   "source": [
    "2439482900096790528"
   ]
  },
  {
   "cell_type": "code",
   "execution_count": 20,
   "id": "0eaf5f6d-7aea-402a-8d82-a4213b16686b",
   "metadata": {
    "tags": []
   },
   "outputs": [
    {
     "data": {
      "text/plain": [
       "6.790366217129265"
      ]
     },
     "execution_count": 20,
     "metadata": {},
     "output_type": "execute_result"
    }
   ],
   "source": [
    "grade_a_core.iloc[3][\"lens_DEC_central\"]"
   ]
  },
  {
   "cell_type": "code",
   "execution_count": 21,
   "id": "14e7d4da-62a0-441b-aca5-989d54386fae",
   "metadata": {
    "tags": []
   },
   "outputs": [
    {
     "data": {
      "text/plain": [
       "96.79036621712926"
      ]
     },
     "execution_count": 21,
     "metadata": {},
     "output_type": "execute_result"
    }
   ],
   "source": [
    "grade_a_core.iloc[3][\"lens_DEC_central\"] + 90"
   ]
  },
  {
   "cell_type": "code",
   "execution_count": 34,
   "id": "859de2fc-5241-46af-93a2-0cbe5966db13",
   "metadata": {
    "tags": []
   },
   "outputs": [
    {
     "data": {
      "text/plain": [
       "96790366.0"
      ]
     },
     "execution_count": 34,
     "metadata": {},
     "output_type": "execute_result"
    }
   ],
   "source": [
    "np.round(grade_a_core.iloc[3][\"lens_DEC_central\"] + 90, 6)*10**6"
   ]
  },
  {
   "cell_type": "code",
   "execution_count": 29,
   "id": "4f8dba36-e28a-420f-8881-b7a4f7faaad6",
   "metadata": {
    "tags": []
   },
   "outputs": [
    {
     "name": "stdout",
     "output_type": "stream",
     "text": [
      "2.4394829e+18\n"
     ]
    }
   ],
   "source": [
    "full_num = np.round(grade_a_core.iloc[3][\"lens_RA_central\"], 6)*10**16\n",
    "print(f\"{full_num}\")"
   ]
  },
  {
   "cell_type": "code",
   "execution_count": 30,
   "id": "3a495e75-8424-4197-982f-eb5b34bc456e",
   "metadata": {
    "tags": []
   },
   "outputs": [
    {
     "data": {
      "text/plain": [
       "2.4394829e+18"
      ]
     },
     "execution_count": 30,
     "metadata": {},
     "output_type": "execute_result"
    }
   ],
   "source": [
    "np.round(grade_a_core.iloc[3][\"lens_RA_central\"], 6)*10**16"
   ]
  },
  {
   "cell_type": "code",
   "execution_count": 31,
   "id": "b003c023-44b0-4e23-b4dd-8e383197a032",
   "metadata": {
    "tags": []
   },
   "outputs": [
    {
     "data": {
      "text/plain": [
       "2.4394829000967905e+18"
      ]
     },
     "execution_count": 31,
     "metadata": {},
     "output_type": "execute_result"
    }
   ],
   "source": [
    "np.round(grade_a_core.iloc[3][\"lens_RA_central\"], 6)*10**16 + np.round(grade_a_core.iloc[3][\"lens_DEC_central\"] + 90, 6)*10**6"
   ]
  },
  {
   "cell_type": "code",
   "execution_count": 32,
   "id": "840469d7-0151-4bd1-b471-8fa85328a5e6",
   "metadata": {
    "tags": []
   },
   "outputs": [
    {
     "data": {
      "text/plain": [
       "'2439482900000000000.000000'"
      ]
     },
     "execution_count": 32,
     "metadata": {},
     "output_type": "execute_result"
    }
   ],
   "source": [
    "a = np.round(grade_a_core.iloc[3][\"lens_RA_central\"], 6)*10**16\n",
    "'{:f}'.format(a)"
   ]
  },
  {
   "cell_type": "code",
   "execution_count": 37,
   "id": "6263e1f9-ec95-4c9c-9d4f-70f612bcc25a",
   "metadata": {
    "tags": []
   },
   "outputs": [
    {
     "data": {
      "text/plain": [
       "2.4394829000967905e+18"
      ]
     },
     "execution_count": 37,
     "metadata": {},
     "output_type": "execute_result"
    }
   ],
   "source": [
    "np.round(grade_a_core.iloc[3][\"lens_RA_central\"], 6)*10**16 + np.round(grade_a_core.iloc[3][\"lens_DEC_central\"] + 90, 6)*10**6"
   ]
  },
  {
   "cell_type": "code",
   "execution_count": 40,
   "id": "794eb750-5a46-4e13-9e9b-619731078b75",
   "metadata": {
    "tags": []
   },
   "outputs": [],
   "source": [
    "np.random.seed(seed=0)"
   ]
  },
  {
   "cell_type": "code",
   "execution_count": 43,
   "id": "feec478e-f359-49cf-8f03-3296f08d5feb",
   "metadata": {
    "tags": []
   },
   "outputs": [
    {
     "data": {
      "text/plain": [
       "'2439482900000000000.000000'"
      ]
     },
     "execution_count": 43,
     "metadata": {},
     "output_type": "execute_result"
    }
   ],
   "source": [
    "a = np.round(grade_a_core.iloc[3][\"lens_RA_central\"], 6)*10**16\n",
    "'{:f}'.format(a)"
   ]
  },
  {
   "cell_type": "code",
   "execution_count": 41,
   "id": "2ed40edf-fda9-4427-a37a-1fdd5dbf1a58",
   "metadata": {
    "tags": []
   },
   "outputs": [
    {
     "data": {
      "text/plain": [
       "96790366.0"
      ]
     },
     "execution_count": 41,
     "metadata": {},
     "output_type": "execute_result"
    }
   ],
   "source": [
    "np.round(grade_a_core.iloc[3][\"lens_DEC_central\"] + 90, 6)*10**6"
   ]
  },
  {
   "cell_type": "code",
   "execution_count": 44,
   "id": "d29e151e-c68f-4adc-8757-683e9846dd17",
   "metadata": {
    "tags": []
   },
   "outputs": [
    {
     "data": {
      "text/plain": [
       "'2439482900096790528.000000'"
      ]
     },
     "execution_count": 44,
     "metadata": {},
     "output_type": "execute_result"
    }
   ],
   "source": [
    "a = np.round(grade_a_core.iloc[3][\"lens_RA_central\"], 6)*10**16 + np.round(grade_a_core.iloc[3][\"lens_DEC_central\"] + 90, 6)*10**6\n",
    "'{:f}'.format(a)"
   ]
  },
  {
   "cell_type": "markdown",
   "id": "b2ba8b67-b3aa-4f8a-9a4c-fc13f38b716b",
   "metadata": {},
   "source": [
    "# Solving the issue:"
   ]
  },
  {
   "cell_type": "code",
   "execution_count": 46,
   "id": "eb26eba7-b894-498e-937e-fef87962fd0d",
   "metadata": {
    "tags": []
   },
   "outputs": [
    {
     "data": {
      "text/plain": [
       "2.4394829000967905e+18"
      ]
     },
     "execution_count": 46,
     "metadata": {},
     "output_type": "execute_result"
    }
   ],
   "source": [
    "np.round(grade_a_core.iloc[3][\"lens_RA_central\"], 6)*10**16 + np.round(grade_a_core.iloc[3][\"lens_DEC_central\"] + 90, 6)*10**6"
   ]
  },
  {
   "cell_type": "code",
   "execution_count": 47,
   "id": "d6ddfede-3b4e-4922-a8ef-cdeed03639ae",
   "metadata": {
    "tags": []
   },
   "outputs": [
    {
     "data": {
      "text/plain": [
       "2439482900096790366"
      ]
     },
     "execution_count": 47,
     "metadata": {},
     "output_type": "execute_result"
    }
   ],
   "source": [
    "int(np.round(grade_a_core.iloc[3][\"lens_RA_central\"], 6)*10**16) + int(np.round(grade_a_core.iloc[3][\"lens_DEC_central\"] + 90, 6)*10**6)"
   ]
  },
  {
   "cell_type": "code",
   "execution_count": null,
   "id": "7999729e-388c-42b9-b3c2-c361adc2d2cf",
   "metadata": {},
   "outputs": [],
   "source": []
  }
 ],
 "metadata": {
  "kernelspec": {
   "display_name": "DESI EDR 23.1",
   "language": "python",
   "name": "desi-edr-23.1-bash"
  },
  "language_info": {
   "codemirror_mode": {
    "name": "ipython",
    "version": 3
   },
   "file_extension": ".py",
   "mimetype": "text/x-python",
   "name": "python",
   "nbconvert_exporter": "python",
   "pygments_lexer": "ipython3",
   "version": "3.10.8"
  }
 },
 "nbformat": 4,
 "nbformat_minor": 5
}
